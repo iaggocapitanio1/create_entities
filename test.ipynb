{
 "cells": [
  {
   "cell_type": "code",
   "execution_count": 1,
   "id": "8fdb0eb9",
   "metadata": {},
   "outputs": [],
   "source": [
    "from handlers.patternEventHandler import PatternEventHandler"
   ]
  },
  {
   "cell_type": "code",
   "execution_count": 2,
   "id": "4e684c91",
   "metadata": {},
   "outputs": [
    {
     "name": "stdout",
     "output_type": "stream",
     "text": [
      "bora\n",
      "\n"
     ]
    }
   ],
   "source": [
    "pattern = PatternEventHandler()"
   ]
  },
  {
   "cell_type": "code",
   "execution_count": 3,
   "id": "022c473e",
   "metadata": {},
   "outputs": [
    {
     "name": "stdout",
     "output_type": "stream",
     "text": [
      "bora\n",
      "casa\n"
     ]
    }
   ],
   "source": [
    "pattern.target_path = 'casa'"
   ]
  },
  {
   "cell_type": "code",
   "execution_count": 4,
   "id": "f17555e8",
   "metadata": {},
   "outputs": [
    {
     "data": {
      "text/plain": [
       "PosixPath('/home/iaggo/Documents/Projects/create_entities/casa')"
      ]
     },
     "execution_count": 4,
     "metadata": {},
     "output_type": "execute_result"
    }
   ],
   "source": [
    "pattern.target_path"
   ]
  },
  {
   "cell_type": "code",
   "execution_count": 5,
   "id": "8dcef67b",
   "metadata": {},
   "outputs": [
    {
     "data": {
      "text/plain": [
       "['case_sensitive',\n",
       " 'ignore_directories',\n",
       " 'ignore_patterns',\n",
       " 'patterns',\n",
       " 'target_path']"
      ]
     },
     "execution_count": 5,
     "metadata": {},
     "output_type": "execute_result"
    }
   ],
   "source": [
    "pattern.get_all_properties()"
   ]
  },
  {
   "cell_type": "code",
   "execution_count": 6,
   "id": "b9eda305",
   "metadata": {},
   "outputs": [],
   "source": [
    "from decorators import validate_path"
   ]
  },
  {
   "cell_type": "code",
   "execution_count": 7,
   "id": "8e56c5bb",
   "metadata": {},
   "outputs": [],
   "source": [
    "@validate_path\n",
    "def bora_la(msg):\n",
    "    print(msg)"
   ]
  },
  {
   "cell_type": "code",
   "execution_count": 8,
   "id": "988b800e",
   "metadata": {},
   "outputs": [
    {
     "name": "stdout",
     "output_type": "stream",
     "text": [
      "bora\n",
      "/home/iaggo/Documents/Projects/create_entities/ola\n"
     ]
    }
   ],
   "source": [
    "bora_la('ola')"
   ]
  },
  {
   "cell_type": "code",
   "execution_count": null,
   "id": "42ba6cc2",
   "metadata": {},
   "outputs": [],
   "source": []
  }
 ],
 "metadata": {
  "kernelspec": {
   "display_name": "Python 3 (ipykernel)",
   "language": "python",
   "name": "python3"
  },
  "language_info": {
   "codemirror_mode": {
    "name": "ipython",
    "version": 3
   },
   "file_extension": ".py",
   "mimetype": "text/x-python",
   "name": "python",
   "nbconvert_exporter": "python",
   "pygments_lexer": "ipython3",
   "version": "3.9.13"
  }
 },
 "nbformat": 4,
 "nbformat_minor": 5
}
