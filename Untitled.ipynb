{
 "cells": [
  {
   "cell_type": "code",
   "execution_count": 1,
   "id": "9b3d89dc",
   "metadata": {},
   "outputs": [],
   "source": [
    "from payloads import PartPayload"
   ]
  },
  {
   "cell_type": "code",
   "execution_count": 161,
   "id": "244e822c",
   "metadata": {},
   "outputs": [],
   "source": [
    "from typing import List, Dict, Any\n",
    "from settings import settings\n",
    "import functools\n",
    "import inspect\n",
    "\n",
    "\n",
    "def parse_string_to_list(string_list: str) -> list:\n",
    "    import ast\n",
    "    return ast.literal_eval(string_list)\n",
    "\n",
    "\n",
    "def check_authorization(f):\n",
    "    f.is_god = True\n",
    "    return f\n",
    "\n",
    "class BasePayload(object):\n",
    "    PROPS_TO_EXCLUDE = ['context', 'headers', 'url', 'id', 'type']\n",
    "    RELATIONAL_PROPS = []\n",
    "\n",
    "    def __init__(self, **kwargs) -> None:\n",
    "        self.context = kwargs.get('context', settings.get('NGSI-LD', 'context'))\n",
    "        self.headers = kwargs.get('headers', settings.sections_dict['HEADERS'])\n",
    "        self.url = kwargs.get('url', settings.get('NGSI-LD', 'url'))\n",
    "        self.type = kwargs.get('type', 'Part')\n",
    "        self.id = kwargs.get('id', None)\n",
    "\n",
    "    def validate_props(self, props: list) -> list:\n",
    "        if not all(prop in self.get_all_properties() for prop in props) and len(props)!= 0:\n",
    "            raise ValueError('PROPS ARE BAD IMPLEMENTED!')\n",
    "        return props\n",
    "\n",
    "    def get_props_to_exclude(self):\n",
    "        return self.validate_props(props=self.PROPS_TO_EXCLUDE)\n",
    "\n",
    "    def get_relational_props(self):\n",
    "        return self.validate_props(props=self.RELATIONAL_PROPS)\n",
    "    \n",
    "    @check_authorization\n",
    "    def test(self):\n",
    "        return 1\n",
    "    \n",
    "    @property\n",
    "    def id(self) -> str:\n",
    "        return self._id\n",
    "    \n",
    "    @id.setter\n",
    "    def id(self, identifier) -> None:\n",
    "        self._id = identifier\n",
    "\n",
    "    @property\n",
    "    def type(self) -> str:\n",
    "        return self._type\n",
    "\n",
    "    @type.setter\n",
    "    def type(self, _type) -> None:\n",
    "        self._type = _type\n",
    "\n",
    "    @property\n",
    "    def context(self) -> List[str]:\n",
    "        return self._context\n",
    "\n",
    "    @context.setter\n",
    "    def context(self, context: List[str]) -> None:\n",
    "        if isinstance(context, str):\n",
    "            context = parse_string_to_list(string_list=context)\n",
    "        self._context = context\n",
    "\n",
    "    @property\n",
    "    def headers(self) -> Dict[str, str]:\n",
    "        return self._headers\n",
    "\n",
    "    @headers.setter\n",
    "    def headers(self, headers: Dict[str, str]) -> None:\n",
    "        self._headers = headers\n",
    "\n",
    "    @property\n",
    "    def url(self) -> str:\n",
    "        return self._url\n",
    "\n",
    "    @url.setter\n",
    "    def url(self, url: str) -> None:\n",
    "        self._url = url\n",
    "\n",
    "    def get_all_properties(self) -> List[str]:\n",
    "        return [prop[0] for prop in inspect.getmembers(self.__class__, lambda inst: isinstance(inst, property))]\n",
    "\n",
    "    def clean_properties(self) -> List[str]:\n",
    "        props = self.get_all_properties()\n",
    "        for removable in self.get_props_to_exclude() + self.get_relational_props():\n",
    "            props.remove(removable)\n",
    "        return props\n",
    "\n",
    "    @staticmethod\n",
    "    def create_field(_type: str, value: Any) -> Dict[str, Any]:\n",
    "        return dict(type=_type, value=value)\n",
    "\n",
    "    def body(self) -> dict:\n",
    "        payload_body = dict(id=self.id, type=self.type)\n",
    "        for prop in self.clean_properties():\n",
    "            payload_body[prop] = self.create_field(_type='Property', value=getattr(self, prop))\n",
    "        payload_body[\"@context\"] = self.context\n",
    "        for prop in self.get_relational_props():\n",
    "            payload_body[prop] = self.create_field(_type='Relationship', value=getattr(self, prop))\n",
    "        return payload_body\n"
   ]
  },
  {
   "cell_type": "code",
   "execution_count": 162,
   "id": "50a14a28",
   "metadata": {},
   "outputs": [],
   "source": [
    "payload = BasePayload()"
   ]
  },
  {
   "cell_type": "code",
   "execution_count": 163,
   "id": "da7643be",
   "metadata": {},
   "outputs": [
    {
     "data": {
      "text/plain": [
       "['context', 'headers', 'id', 'type', 'url']"
      ]
     },
     "execution_count": 163,
     "metadata": {},
     "output_type": "execute_result"
    }
   ],
   "source": [
    "payload.get_all_properties()"
   ]
  },
  {
   "cell_type": "code",
   "execution_count": 164,
   "id": "659fceac",
   "metadata": {},
   "outputs": [
    {
     "data": {
      "text/plain": [
       "[]"
      ]
     },
     "execution_count": 164,
     "metadata": {},
     "output_type": "execute_result"
    }
   ],
   "source": [
    "payload.RELATIONAL_PROPS"
   ]
  },
  {
   "cell_type": "code",
   "execution_count": 168,
   "id": "74e7079b",
   "metadata": {},
   "outputs": [
    {
     "ename": "SyntaxError",
     "evalue": "invalid syntax (4205136502.py, line 1)",
     "output_type": "error",
     "traceback": [
      "\u001b[1;36m  File \u001b[1;32m\"C:\\Users\\iaggo\\AppData\\Local\\Temp\\ipykernel_15040\\4205136502.py\"\u001b[1;36m, line \u001b[1;32m1\u001b[0m\n\u001b[1;33m    payload.test.\u001b[0m\n\u001b[1;37m                 ^\u001b[0m\n\u001b[1;31mSyntaxError\u001b[0m\u001b[1;31m:\u001b[0m invalid syntax\n"
     ]
    }
   ],
   "source": [
    "payload.test.\n"
   ]
  },
  {
   "cell_type": "code",
   "execution_count": null,
   "id": "da7c81c0",
   "metadata": {},
   "outputs": [],
   "source": []
  },
  {
   "cell_type": "code",
   "execution_count": null,
   "id": "8fdb0eb9",
   "metadata": {},
   "outputs": [],
   "source": []
  }
 ],
 "metadata": {
  "kernelspec": {
   "display_name": "Python 3 (ipykernel)",
   "language": "python",
   "name": "python3"
  },
  "language_info": {
   "codemirror_mode": {
    "name": "ipython",
    "version": 3
   },
   "file_extension": ".py",
   "mimetype": "text/x-python",
   "name": "python",
   "nbconvert_exporter": "python",
   "pygments_lexer": "ipython3",
   "version": "3.9.13"
  }
 },
 "nbformat": 4,
 "nbformat_minor": 5
}
