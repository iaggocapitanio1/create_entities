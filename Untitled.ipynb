{
 "cells": [
  {
   "cell_type": "code",
   "execution_count": 136,
   "id": "61ad10c1",
   "metadata": {},
   "outputs": [],
   "source": [
    "from typing import List, Dict, Any\n",
    "from settings import settings\n",
    "import inspect\n",
    "\n",
    "\n",
    "def parse_string_to_list(string_list: str) -> list:\n",
    "    import ast\n",
    "    return ast.literal_eval(string_list)\n",
    "\n",
    "\n",
    "class BasePayload(object):\n",
    "    PROPS_TO_EXCLUDE = ['context', 'headers', 'url', 'id', 'type']\n",
    "    RELATIONAL_PROPS = []\n",
    "\n",
    "    def __init__(self, **kwargs) -> None:\n",
    "        self.context = kwargs.get('context', settings.get('NGSI-LD', 'context'))\n",
    "        self.headers = kwargs.get('headers', settings.sections_dict['HEADERS'])\n",
    "        self.url = kwargs.get('url', settings.get('NGSI-LD', 'url'))\n",
    "        self.type = kwargs.get('type', 'Part')\n",
    "        self.id = kwargs.get('id', None)\n",
    "\n",
    "    def validate_props(self, props: list) -> list:\n",
    "        if not all(prop in self.get_all_properties() for prop in props) and len(props)!= 0:\n",
    "            raise ValueError('PROPS ARE BAD IMPLEMENTED!')\n",
    "        return props\n",
    "\n",
    "    def get_props_to_exclude(self):\n",
    "        return self.validate_props(props=self.PROPS_TO_EXCLUDE)\n",
    "\n",
    "    def get_relational_props(self):\n",
    "        return self.validate_props(props=self.RELATIONAL_PROPS)\n",
    "\n",
    "    @property\n",
    "    def id(self) -> str:\n",
    "        return self._id\n",
    "\n",
    "    @id.setter\n",
    "    def id(self, identifier) -> None:\n",
    "        self._id = identifier\n",
    "\n",
    "    @property\n",
    "    def type(self) -> str:\n",
    "        return self._type\n",
    "\n",
    "    @type.setter\n",
    "    def type(self, _type) -> None:\n",
    "        self._type = _type\n",
    "\n",
    "    @property\n",
    "    def context(self) -> List[str]:\n",
    "        return self._context\n",
    "\n",
    "    @context.setter\n",
    "    def context(self, context: List[str]) -> None:\n",
    "        if isinstance(context, str):\n",
    "            context = parse_string_to_list(string_list=context)\n",
    "        self._context = context\n",
    "\n",
    "    @property\n",
    "    def headers(self) -> Dict[str, str]:\n",
    "        return self._headers\n",
    "\n",
    "    @headers.setter\n",
    "    def headers(self, headers: Dict[str, str]) -> None:\n",
    "        self._headers = headers\n",
    "\n",
    "    @property\n",
    "    def url(self) -> str:\n",
    "        return self._url\n",
    "\n",
    "    @url.setter\n",
    "    def url(self, url: str) -> None:\n",
    "        self._url = url\n",
    "\n",
    "    def get_all_properties(self) -> List[str]:\n",
    "        return [prop[0] for prop in inspect.getmembers(self.__class__, lambda inst: isinstance(inst, property))]\n",
    "\n",
    "    def clean_properties(self) -> List[str]:\n",
    "        props = self.get_all_properties()\n",
    "        for removable in self.get_props_to_exclude() + self.get_relational_props():\n",
    "            props.remove(removable)\n",
    "        return props\n",
    "\n",
    "    @staticmethod\n",
    "    def create_field(_type: str, value: Any) -> Dict[str, Any]:\n",
    "        return dict(type=_type, value=value)\n",
    "\n",
    "    def body(self) -> dict:\n",
    "        payload_body = dict(id=self.id, type=self.type)\n",
    "        for prop in self.clean_properties():\n",
    "            payload_body[prop] = self.create_field(_type='Property', value=getattr(self, prop))\n",
    "        payload_body[\"@context\"] = self.context\n",
    "        for prop in self.get_relational_props():\n",
    "            payload_body[prop] = self.create_field(_type='Relational', value=getattr(self, prop))\n",
    "        return payload_body\n"
   ]
  },
  {
   "cell_type": "code",
   "execution_count": 137,
   "id": "8ae6d2fd",
   "metadata": {},
   "outputs": [],
   "source": [
    "payload = BasePayload()"
   ]
  },
  {
   "cell_type": "code",
   "execution_count": 138,
   "id": "5d9d1f71",
   "metadata": {},
   "outputs": [
    {
     "data": {
      "text/plain": [
       "{'id': None,\n",
       " 'type': 'Part',\n",
       " '@context': ['https://raw.githubusercontent.com/More-Collaborative-Laboratory/ww4zero/main/ww4zero.context.normalized.jsonld',\n",
       "  'https://uri.etsi.org/ngsi-ld/v1/ngsi-ld-core-context.jsonld']}"
      ]
     },
     "execution_count": 138,
     "metadata": {},
     "output_type": "execute_result"
    }
   ],
   "source": [
    "payload.body()"
   ]
  },
  {
   "cell_type": "code",
   "execution_count": 132,
   "id": "6db5d8b7",
   "metadata": {},
   "outputs": [
    {
     "data": {
      "text/plain": [
       "False"
      ]
     },
     "execution_count": 132,
     "metadata": {},
     "output_type": "execute_result"
    }
   ],
   "source": [
    "payload._properties() in ['context', 'headers', 'url', 'id', 'type']"
   ]
  },
  {
   "cell_type": "code",
   "execution_count": 133,
   "id": "0e18ccfb",
   "metadata": {},
   "outputs": [
    {
     "ename": "TypeError",
     "evalue": "all() takes exactly one argument (2 given)",
     "output_type": "error",
     "traceback": [
      "\u001b[0;31m---------------------------------------------------------------------------\u001b[0m",
      "\u001b[0;31mTypeError\u001b[0m                                 Traceback (most recent call last)",
      "\u001b[0;32m/tmp/ipykernel_8252/3271374271.py\u001b[0m in \u001b[0;36m<module>\u001b[0;34m\u001b[0m\n\u001b[0;32m----> 1\u001b[0;31m \u001b[0mall\u001b[0m\u001b[0;34m(\u001b[0m\u001b[0mpayload\u001b[0m\u001b[0;34m.\u001b[0m\u001b[0m_properties\u001b[0m\u001b[0;34m(\u001b[0m\u001b[0;34m)\u001b[0m\u001b[0;34m,\u001b[0m \u001b[0;34m[\u001b[0m\u001b[0;34m'context'\u001b[0m\u001b[0;34m,\u001b[0m \u001b[0;34m'headers'\u001b[0m\u001b[0;34m,\u001b[0m \u001b[0;34m'url'\u001b[0m\u001b[0;34m,\u001b[0m \u001b[0;34m'id'\u001b[0m\u001b[0;34m,\u001b[0m \u001b[0;34m'type'\u001b[0m\u001b[0;34m]\u001b[0m\u001b[0;34m)\u001b[0m\u001b[0;34m\u001b[0m\u001b[0;34m\u001b[0m\u001b[0m\n\u001b[0m",
      "\u001b[0;31mTypeError\u001b[0m: all() takes exactly one argument (2 given)"
     ]
    }
   ],
   "source": [
    "all(payload._properties(), ['context', 'headers', 'url', 'id', 'type'])"
   ]
  },
  {
   "cell_type": "code",
   "execution_count": 135,
   "id": "9ed33066",
   "metadata": {},
   "outputs": [
    {
     "ename": "AttributeError",
     "evalue": "'list' object has no attribute '__name__'",
     "output_type": "error",
     "traceback": [
      "\u001b[0;31m---------------------------------------------------------------------------\u001b[0m",
      "\u001b[0;31mAttributeError\u001b[0m                            Traceback (most recent call last)",
      "\u001b[0;32m/tmp/ipykernel_8252/1368749354.py\u001b[0m in \u001b[0;36m<module>\u001b[0;34m\u001b[0m\n\u001b[0;32m----> 1\u001b[0;31m \u001b[0mpayload\u001b[0m\u001b[0;34m.\u001b[0m\u001b[0mEXCLUDE_PROPS\u001b[0m\u001b[0;34m.\u001b[0m\u001b[0m__name__\u001b[0m\u001b[0;34m\u001b[0m\u001b[0;34m\u001b[0m\u001b[0m\n\u001b[0m",
      "\u001b[0;31mAttributeError\u001b[0m: 'list' object has no attribute '__name__'"
     ]
    }
   ],
   "source": [
    "payload.EXCLUDE_PROPS."
   ]
  },
  {
   "cell_type": "code",
   "execution_count": null,
   "id": "35072b97",
   "metadata": {},
   "outputs": [],
   "source": []
  }
 ],
 "metadata": {
  "kernelspec": {
   "display_name": "Python 3 (ipykernel)",
   "language": "python",
   "name": "python3"
  },
  "language_info": {
   "codemirror_mode": {
    "name": "ipython",
    "version": 3
   },
   "file_extension": ".py",
   "mimetype": "text/x-python",
   "name": "python",
   "nbconvert_exporter": "python",
   "pygments_lexer": "ipython3",
   "version": "3.9.13"
  }
 },
 "nbformat": 4,
 "nbformat_minor": 5
}
